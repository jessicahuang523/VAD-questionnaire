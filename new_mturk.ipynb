{
  "nbformat": 4,
  "nbformat_minor": 0,
  "metadata": {
    "colab": {
      "name": "new_mturk.ipynb",
      "provenance": [],
      "collapsed_sections": []
    },
    "kernelspec": {
      "name": "python3",
      "display_name": "Python 3"
    }
  },
  "cells": [
    {
      "cell_type": "code",
      "metadata": {
        "id": "rRKFaHvVY-6F",
        "colab_type": "code",
        "colab": {}
      },
      "source": [
        "from google.colab import files\n",
        "uploaded = files.upload()"
      ],
      "execution_count": null,
      "outputs": []
    },
    {
      "cell_type": "code",
      "metadata": {
        "id": "uGiBea3iY5Vw",
        "colab_type": "code",
        "colab": {}
      },
      "source": [
        "import boto3\n",
        "import pandas as pd\n",
        "import urllib\n",
        "\n",
        "#setup\n",
        "CREDENTIALS_FILE = './credentials.csv'\n",
        "credentials = pd.read_csv(CREDENTIALS_FILE).to_dict('records')[0]\n",
        "aws_access_key_id = credentials['Access key ID']\n",
        "aws_secret_access_key = credentials['Secret access key']\n",
        "\n",
        "region_name = 'us-east-1'\n",
        "endpoint_url = 'https://mturk-requester-sandbox.us-east-1.amazonaws.com'\n",
        "\n",
        "client = boto3.client(\n",
        "    'mturk',\n",
        "    aws_access_key_id = aws_access_key_id,\n",
        "    aws_secret_access_key = aws_secret_access_key,\n",
        "    endpoint_url = endpoint_url,\n",
        "    region_name = region_name\n",
        ")\n"
      ],
      "execution_count": null,
      "outputs": []
    },
    {
      "cell_type": "code",
      "metadata": {
        "id": "5tnP-D3ne51W",
        "colab_type": "code",
        "colab": {}
      },
      "source": [
        "#create qualification requirement\n",
        "\n",
        "question = '''<QuestionForm xmlns='http://mechanicalturk.amazonaws.com/AWSMechanicalTurkDataSchemas/2005-10-01/QuestionForm.xsd'>\n",
        "<Question>\n",
        "      <QuestionIdentifier>password_test</QuestionIdentifier>\n",
        "      <DisplayName>Question</DisplayName>\n",
        "      <IsRequired>true</IsRequired>\n",
        "      <QuestionContent>\n",
        "        <Text> Please enter password </Text>\n",
        "      </QuestionContent>\n",
        "      <FreeTextAnswer>\n",
        "        <Constraints>\n",
        "          <Length minLength=\"2\" />\n",
        "          <AnswerFormatRegex regex=\"\\S\" errorText=\"The content cannot be blank.\"/>\n",
        "        </Constraints>\n",
        "      </FreeTextAnswer>\n",
        "</Question> \n",
        "</QuestionForm>\n",
        "'''\n",
        "\n",
        "answer = '''<AnswerKey xmlns=\"http://mechanicalturk.amazonaws.com/AWSMechanicalTurkDataSchemas/2005-10-01/AnswerKey.xsd\">\n",
        "\n",
        "</AnswerKey>\n",
        "'''\n",
        "\n",
        "qual_response = mturk.create_qualification_type(\n",
        "                        Name='Enter password',\n",
        "                        Keywords='test, qualification, password',\n",
        "                        Description='Enter the correct password to access the questions',\n",
        "                        QualificationTypeStatus='Active',\n",
        "                        Test=question,\n",
        "                        AnswerKey=answer,\n",
        "                        TestDurationInSeconds=300)\n",
        "\n",
        "print(qual_response['QualificationType']['QualificationTypeId'])"
      ],
      "execution_count": null,
      "outputs": []
    },
    {
      "cell_type": "code",
      "metadata": {
        "id": "3kkR9bauZll2",
        "colab_type": "code",
        "colab": {}
      },
      "source": [
        "#create hit type\n",
        "one_minute = 60 # seconds\n",
        "one_hour = 60 * one_minute\n",
        "one_day = 24 * one_hour\n",
        "\n",
        "hit_type_response = client.create_hit_type(\n",
        "    AutoApprovalDelayInSeconds = 10 * one_minute,\n",
        "    AssignmentDurationInSeconds = 5 * one_minute,\n",
        "    Reward = '0.20',\n",
        "    Title = 'Emotion in GIF',\n",
        "    Keywords = 'emotion, GIF, detection, VAD',\n",
        "    Description = 'Choose a GIF that best describes the image shown above',\n",
        "    QualificationRequirements = [\n",
        "      {\n",
        "          'QualificationTypeId': '00000000000000000071',\n",
        "          'Comparator': 'In',\n",
        "          'LocaleValues': [\n",
        "            {\n",
        "                'Country': 'TW'\n",
        "            },\n",
        "            {\n",
        "                'Country': 'US'\n",
        "            },\n",
        "          ],\n",
        "          'RequiredToPreview': True,\n",
        "          'ActionsGuarded': 'PreviewAndAccept'\n",
        "      },\n",
        "    ]\n",
        ")"
      ],
      "execution_count": null,
      "outputs": []
    },
    {
      "cell_type": "code",
      "metadata": {
        "id": "BKdknwbqso_S",
        "colab_type": "code",
        "colab": {}
      },
      "source": [
        "#hit for vad\n",
        "hit_type_id = hit_type_response['HITTypeId']\n",
        "#for...\n",
        "params = 'gifA=' + urllib.parse.quote('0ffa3c2efd2b21b19b846888670a8e36') + '&amp;' 'gifB=' + urllib.parse.quote('3a392f38bf5acc872a99a26bcc3c7ecc') + '&amp;''gifC=' + urllib.parse.quote('3b9eb91e33f9860c2923cfab6aa1d958') + '&amp;''gifD=' + urllib.parse.quote('4a130081ea119837ae185fe007f746cf') \n",
        "#D\n",
        "question=f'''<?xml version=\"1.0\" encoding=\"UTF-8\"?>\n",
        "    <ExternalQuestion xmlns=\"http://mechanicalturk.amazonaws.com/AWSMechanicalTurkDataSchemas/2006-07-14/ExternalQuestion.xsd\">\n",
        "    <ExternalURL>https://doraemon.iis.sinica.edu.tw/gif-vad/test/templates/ques-D.html?{params}</ExternalURL>\n",
        "    <FrameHeight>800</FrameHeight>\n",
        "    </ExternalQuestion>'''\n",
        "\n",
        "response = client.create_hit_with_hit_type(\n",
        "      HITTypeId = hit_type_id,\n",
        "      MaxAssignments = 3,\n",
        "      LifetimeInSeconds = 10 * one_minute,\n",
        "      Question = question,\n",
        "      RequesterAnnotation = \"D\"\n",
        "  )\n",
        "print(\"done\")"
      ],
      "execution_count": null,
      "outputs": []
    },
    {
      "cell_type": "code",
      "metadata": {
        "id": "asgrAcqEbB84",
        "colab_type": "code",
        "colab": {}
      },
      "source": [
        "#fetch results\n",
        "\n",
        "#list_hits_response = client.list_hits()\n",
        "#hit_id = list_hits_response['HITs'][0]\n",
        "#response = client.list_assignments_for_hit(HITId=hit_id)\n",
        "hits_paginator = client.get_paginator('list_hits')\n",
        "assignments_paginator = client.get_paginator('list_assignments_for_hit')\n",
        "ans = \"\"\n",
        "for hits in hits_paginator.paginate():\n",
        "  for hit in hits['HITs']:\n",
        "    for assignments in assignments_paginator.paginate(HITId=hit['HITId']):\n",
        "      for assignment in assignments['Assignments']:\n",
        "        print(assignment['Answer'])"
      ],
      "execution_count": null,
      "outputs": []
    }
  ]
}