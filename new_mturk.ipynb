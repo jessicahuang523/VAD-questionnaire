{
  "nbformat": 4,
  "nbformat_minor": 0,
  "metadata": {
    "colab": {
      "name": "new_mturk.ipynb",
      "provenance": [],
      "collapsed_sections": []
    },
    "kernelspec": {
      "name": "python3",
      "display_name": "Python 3"
    }
  },
  "cells": [
    {
      "cell_type": "code",
      "metadata": {
        "id": "rRKFaHvVY-6F",
        "colab_type": "code",
        "colab": {}
      },
      "source": [
        "from google.colab import files\n",
        "uploaded = files.upload()"
      ],
      "execution_count": null,
      "outputs": []
    },
    {
      "cell_type": "code",
      "metadata": {
        "id": "uGiBea3iY5Vw",
        "colab_type": "code",
        "colab": {}
      },
      "source": [
        "import boto3\n",
        "import pandas as pd\n",
        "import urllib\n",
        "\n",
        "#setup\n",
        "CREDENTIALS_FILE = './credentials.csv'\n",
        "credentials = pd.read_csv(CREDENTIALS_FILE).to_dict('records')[0]\n",
        "aws_access_key_id = credentials['Access key ID']\n",
        "aws_secret_access_key = credentials['Secret access key']\n",
        "\n",
        "region_name = 'us-east-1'\n",
        "endpoint_url = 'https://mturk-requester-sandbox.us-east-1.amazonaws.com'\n",
        "\n",
        "client = boto3.client(\n",
        "    'mturk',\n",
        "    aws_access_key_id = aws_access_key_id,\n",
        "    aws_secret_access_key = aws_secret_access_key,\n",
        "    endpoint_url = endpoint_url,\n",
        "    region_name = region_name\n",
        ")\n"
      ],
      "execution_count": null,
      "outputs": []
    },
    {
      "cell_type": "code",
      "metadata": {
        "id": "3kkR9bauZll2",
        "colab_type": "code",
        "colab": {}
      },
      "source": [
        "#create hit type\n",
        "one_minute = 60 # seconds\n",
        "one_hour = 60 * one_minute\n",
        "one_day = 24 * one_hour\n",
        "\n",
        "#remember to change title!!!\n",
        "hit_type_response = client.create_hit_type(\n",
        "    AutoApprovalDelayInSeconds = 10 * one_minute,\n",
        "    AssignmentDurationInSeconds = 5 * one_minute,\n",
        "    Reward = '0.05',\n",
        "    Title = 'Emotion in GIF (arousal)',\n",
        "    Keywords = 'emotion, GIF, detection, VAD',\n",
        "    Description = 'Choose a GIF that best describes the image shown above',\n",
        "    QualificationRequirements = [\n",
        "      {\n",
        "          'QualificationTypeId': '00000000000000000071',\n",
        "          'Comparator': 'In',\n",
        "          'LocaleValues': [\n",
        "            {\n",
        "                'Country': 'TW'\n",
        "            },\n",
        "            {\n",
        "                'Country': 'US'\n",
        "            },\n",
        "          ],\n",
        "          'RequiredToPreview': True,\n",
        "          'ActionsGuarded': 'PreviewAndAccept'\n",
        "      },\n",
        "    ]\n",
        ")"
      ],
      "execution_count": 22,
      "outputs": []
    },
    {
      "cell_type": "code",
      "metadata": {
        "id": "BKdknwbqso_S",
        "colab_type": "code",
        "colab": {}
      },
      "source": [
        "#hit for vad\n",
        "#remember to change dim and 10/100!!!\n",
        "\n",
        "hit_type_id = hit_type_response['HITTypeId']\n",
        "\n",
        "dim = 'a'\n",
        "\n",
        "with open(\"filenames.txt.tuples\", \"r\") as fin:\n",
        "  lines = fin.readlines()\n",
        "  for l in lines:\n",
        "    names = l.split('\t')\n",
        "    names[3] = names[3].replace(\"\\n\", \"\")\n",
        "\n",
        "    params =  'dim=' + urllib.parse.quote(dim) + '&amp;' 'gifA=' + urllib.parse.quote(names[0]) + '&amp;' 'gifB=' + urllib.parse.quote(names[1]) + '&amp;''gifC=' + urllib.parse.quote(names[2]) + '&amp;''gifD=' + urllib.parse.quote(names[3]) \n",
        "\n",
        "    question=f'''<?xml version=\"1.0\" encoding=\"UTF-8\"?>\n",
        "        <ExternalQuestion xmlns=\"http://mechanicalturk.amazonaws.com/AWSMechanicalTurkDataSchemas/2006-07-14/ExternalQuestion.xsd\">\n",
        "        <ExternalURL>https://doraemon.iis.sinica.edu.tw/gif-vad/test/templates/ques-10.html?{params}</ExternalURL>\n",
        "        <FrameHeight>800</FrameHeight>\n",
        "        </ExternalQuestion>'''\n",
        "\n",
        "    response = client.create_hit_with_hit_type(\n",
        "          HITTypeId = hit_type_id,\n",
        "          MaxAssignments = 2,\n",
        "          LifetimeInSeconds = 5 * one_minute,\n",
        "          Question = question,\n",
        "          RequesterAnnotation = dim\n",
        "      )\n",
        "print(\"done\")"
      ],
      "execution_count": null,
      "outputs": []
    },
    {
      "cell_type": "code",
      "metadata": {
        "id": "asgrAcqEbB84",
        "colab_type": "code",
        "colab": {}
      },
      "source": [
        "#fetch results\n",
        "\n",
        "#list_hits_response = client.list_hits()\n",
        "#hit_id = list_hits_response['HITs'][0]\n",
        "#response = client.list_assignments_for_hit(HITId=hit_id)\n",
        "hits_paginator = client.get_paginator('list_hits')\n",
        "assignments_paginator = client.get_paginator('list_assignments_for_hit')\n",
        "ans = \"\"\n",
        "for hits in hits_paginator.paginate():\n",
        "  for hit in hits['HITs']:\n",
        "    for assignments in assignments_paginator.paginate(HITId=hit['HITId']):\n",
        "      for assignment in assignments['Assignments']:\n",
        "        print(assignment['Answer'])"
      ],
      "execution_count": null,
      "outputs": []
    }
  ]
}